{
 "cells": [
  {
   "cell_type": "markdown",
   "metadata": {},
   "source": [
    "<h1 align='center'>Introducting Interactivity into Jupyter Notebooks</h1>\n",
    "\n",
    "<h4 align='center'>Laura Gutierrez Funderburk$\\mid$ SciProg $\\mid$ Simon Fraser University</h4>"
   ]
  },
  {
   "cell_type": "markdown",
   "metadata": {},
   "source": [
    "<h2 align='center'>Jupyter Widgets</h2>\n",
    "\n",
    "We learned in the introduction about how widgets can help us introduce interactivity into our notebooks. In this notebook we will learn more about the different widgets we can use. \n",
    "\n",
    "Jupyter Widgets can be classified as follows:\n",
    "\n",
    "<h4>$\\bullet$Numeric Widgets</h4>\n",
    "<h4>$\\bullet$Boolean Widgets</h4>\n",
    "<h4>$\\bullet$Selection Widgets</h4>\n",
    "<h4>$\\bullet$String Widgets</h4>\n",
    "<h4>$\\bullet$Container/Layout Widgets</h4>\n",
    "\n",
    "We will look at a few examples from these categories. \n",
    "\n",
    "Other useful widgets include\n",
    "\n",
    "<h4>$\\bullet$Button</h4>\n",
    "<h4>$\\bullet$Date Picker</h4>\n",
    "<h4>$\\bullet$Color Picker</h4>\n",
    "\n",
    "\n",
    "There are many more however due time constraints we will only explore the above in this workshop. Participants are welcome to explore more at:\n",
    "\n",
    "https://ipywidgets.readthedocs.io/en/stable/examples/Widget%20List.html"
   ]
  },
  {
   "cell_type": "markdown",
   "metadata": {},
   "source": [
    "<h2 align='center'>Calling Widgets</h2>\n",
    "\n",
    "We can call widgets by importing the library ipywidgets. \n",
    "\n",
    "We will pick only those methods in the library that we are interested in.\n",
    "\n",
    "From the ipywidgets library, import widgets."
   ]
  },
  {
   "cell_type": "code",
   "execution_count": 29,
   "metadata": {},
   "outputs": [],
   "source": [
    "# Import widgets\n",
    "from ipywidgets import widgets"
   ]
  },
  {
   "cell_type": "code",
   "execution_count": 27,
   "metadata": {},
   "outputs": [
    {
     "data": {
      "application/vnd.jupyter.widget-view+json": {
       "model_id": "a307956020c34047b42555a29e2081a4",
       "version_major": 2,
       "version_minor": 0
      },
      "text/html": [
       "<p>Failed to display Jupyter Widget of type <code>IntSlider</code>.</p>\n",
       "<p>\n",
       "  If you're reading this message in the Jupyter Notebook or JupyterLab Notebook, it may mean\n",
       "  that the widgets JavaScript is still loading. If this message persists, it\n",
       "  likely means that the widgets JavaScript library is either not installed or\n",
       "  not enabled. See the <a href=\"https://ipywidgets.readthedocs.io/en/stable/user_install.html\">Jupyter\n",
       "  Widgets Documentation</a> for setup instructions.\n",
       "</p>\n",
       "<p>\n",
       "  If you're reading this message in another frontend (for example, a static\n",
       "  rendering on GitHub or <a href=\"https://nbviewer.jupyter.org/\">NBViewer</a>),\n",
       "  it may mean that your frontend doesn't currently support widgets.\n",
       "</p>\n"
      ],
      "text/plain": [
       "IntSlider(value=0)"
      ]
     },
     "metadata": {},
     "output_type": "display_data"
    }
   ],
   "source": [
    "# Call the IntSlider method from widgets\n",
    "widgets.IntSlider()"
   ]
  },
  {
   "cell_type": "markdown",
   "metadata": {},
   "source": [
    "The above is the predetermined configuration of the IntSlider widget. \n",
    "\n",
    "<h4>Exercise</h4>\n",
    "\n",
    "Follow a similar format as above and call the DatePicker() method from widgets. "
   ]
  },
  {
   "cell_type": "code",
   "execution_count": 35,
   "metadata": {},
   "outputs": [],
   "source": [
    "# Your code here\n"
   ]
  },
  {
   "cell_type": "markdown",
   "metadata": {},
   "source": [
    "<h2 align='center'>Formatting Widgets</h2>\n",
    "\n",
    "We see that the above are useful, but what if we want our sliders to run through different values, have a name assigned and increment or decrement to various degrees? \n",
    "\n",
    "We can format our widgets to customize them as we prefer. \n",
    "\n",
    "Press Shift + Enter in the following cell to see what a formatted widget looks like. \n",
    "\n",
    "Feel free to change the values to customize your IntSlider widget. "
   ]
  },
  {
   "cell_type": "code",
   "execution_count": 25,
   "metadata": {},
   "outputs": [
    {
     "data": {
      "application/vnd.jupyter.widget-view+json": {
       "model_id": "8d887df7c2aa49c7b6f69512146ad108",
       "version_major": 2,
       "version_minor": 0
      },
      "text/html": [
       "<p>Failed to display Jupyter Widget of type <code>IntSlider</code>.</p>\n",
       "<p>\n",
       "  If you're reading this message in the Jupyter Notebook or JupyterLab Notebook, it may mean\n",
       "  that the widgets JavaScript is still loading. If this message persists, it\n",
       "  likely means that the widgets JavaScript library is either not installed or\n",
       "  not enabled. See the <a href=\"https://ipywidgets.readthedocs.io/en/stable/user_install.html\">Jupyter\n",
       "  Widgets Documentation</a> for setup instructions.\n",
       "</p>\n",
       "<p>\n",
       "  If you're reading this message in another frontend (for example, a static\n",
       "  rendering on GitHub or <a href=\"https://nbviewer.jupyter.org/\">NBViewer</a>),\n",
       "  it may mean that your frontend doesn't currently support widgets.\n",
       "</p>\n"
      ],
      "text/plain": [
       "IntSlider(value=7, description='My First IntSlider', max=10, style=SliderStyle(description_width='initial'))"
      ]
     },
     "metadata": {},
     "output_type": "display_data"
    }
   ],
   "source": [
    "# This style allows for longer descriptions\n",
    "long_name = {'description_width': 'initial'}\n",
    "\n",
    "# Call IntSlider method\n",
    "widgets.IntSlider(\n",
    "    # Set value to  7\n",
    "    value=7,\n",
    "    # Set minimum value\n",
    "    min=0,\n",
    "    # Set maximum value\n",
    "    max=10,\n",
    "    # Set increment or decrement value\n",
    "    step=1,\n",
    "    # Name of the slider\n",
    "    description='My First IntSlider',\n",
    "    # Enable changing value in widget\n",
    "    disabled=False,\n",
    "    # Orientation\n",
    "    orientation='horizontal',\n",
    "    # Set style \n",
    "    style = long_name,\n",
    "    # Display integer value\n",
    "    readout=True\n",
    ")"
   ]
  },
  {
   "cell_type": "markdown",
   "metadata": {},
   "source": [
    "<h4>Exercise</h4>\n",
    "\n",
    "In the code above, set value to 10, set minimum to -10, and maximum to 20. Change your widget so that it increments or decrements by 5 steps at a time and set the orientation to 'vertical'. "
   ]
  },
  {
   "cell_type": "markdown",
   "metadata": {},
   "source": [
    "<h2 align='center'>Connecting Jupyter Widgets and Python Functions</h2>\n",
    "\n",
    "The easiest way to explore this connection is via the use of the interact and interact manual Python functions. \n",
    "\n",
    "We will begin by importing the appropriate functions. Press Shift + Enter on the following cell"
   ]
  },
  {
   "cell_type": "code",
   "execution_count": 36,
   "metadata": {},
   "outputs": [],
   "source": [
    "from ipywidgets import interact, interact_manual"
   ]
  },
  {
   "cell_type": "markdown",
   "metadata": {},
   "source": [
    "Let us code a very simple function. "
   ]
  },
  {
   "cell_type": "code",
   "execution_count": 39,
   "metadata": {},
   "outputs": [],
   "source": [
    "# This function takes as input three numbers, which can be either\n",
    "# integer or floating values\n",
    "# and which returns the sum of the three values\n",
    "\n",
    "def sum_of_three_numbers(n1,n2,n3):\n",
    "    result = n1 + n2 + n3\n",
    "    \n",
    "    return result"
   ]
  },
  {
   "cell_type": "markdown",
   "metadata": {},
   "source": [
    "We can then call interact to manipulate the input and thus change results in the function."
   ]
  },
  {
   "cell_type": "code",
   "execution_count": 44,
   "metadata": {},
   "outputs": [
    {
     "data": {
      "application/vnd.jupyter.widget-view+json": {
       "model_id": "c153380ee00d4021b1f31a93c566b1db",
       "version_major": 2,
       "version_minor": 0
      },
      "text/html": [
       "<p>Failed to display Jupyter Widget of type <code>interactive</code>.</p>\n",
       "<p>\n",
       "  If you're reading this message in the Jupyter Notebook or JupyterLab Notebook, it may mean\n",
       "  that the widgets JavaScript is still loading. If this message persists, it\n",
       "  likely means that the widgets JavaScript library is either not installed or\n",
       "  not enabled. See the <a href=\"https://ipywidgets.readthedocs.io/en/stable/user_install.html\">Jupyter\n",
       "  Widgets Documentation</a> for setup instructions.\n",
       "</p>\n",
       "<p>\n",
       "  If you're reading this message in another frontend (for example, a static\n",
       "  rendering on GitHub or <a href=\"https://nbviewer.jupyter.org/\">NBViewer</a>),\n",
       "  it may mean that your frontend doesn't currently support widgets.\n",
       "</p>\n"
      ],
      "text/plain": [
       "interactive(children=(IntSlider(value=1, description='n1', max=3, min=-1), IntSlider(value=1, description='n2', max=3, min=-1), IntSlider(value=1, description='n3', max=3, min=-1), Output()), _dom_classes=('widget-interact',))"
      ]
     },
     "metadata": {},
     "output_type": "display_data"
    }
   ],
   "source": [
    "interact(sum_of_three_numbers,n1=1,n2=1,n3=1);"
   ]
  },
  {
   "cell_type": "markdown",
   "metadata": {},
   "source": [
    "interact automatically displays three IntSlider widgets, one for each input variable, and outputs the result right after. \n",
    "\n",
    "Let us see what happens when we follow a similar formula for the interact_manual function."
   ]
  },
  {
   "cell_type": "code",
   "execution_count": 45,
   "metadata": {},
   "outputs": [
    {
     "data": {
      "application/vnd.jupyter.widget-view+json": {
       "model_id": "e1763e2ea7ad49dcb5918310269aa54c",
       "version_major": 2,
       "version_minor": 0
      },
      "text/html": [
       "<p>Failed to display Jupyter Widget of type <code>interactive</code>.</p>\n",
       "<p>\n",
       "  If you're reading this message in the Jupyter Notebook or JupyterLab Notebook, it may mean\n",
       "  that the widgets JavaScript is still loading. If this message persists, it\n",
       "  likely means that the widgets JavaScript library is either not installed or\n",
       "  not enabled. See the <a href=\"https://ipywidgets.readthedocs.io/en/stable/user_install.html\">Jupyter\n",
       "  Widgets Documentation</a> for setup instructions.\n",
       "</p>\n",
       "<p>\n",
       "  If you're reading this message in another frontend (for example, a static\n",
       "  rendering on GitHub or <a href=\"https://nbviewer.jupyter.org/\">NBViewer</a>),\n",
       "  it may mean that your frontend doesn't currently support widgets.\n",
       "</p>\n"
      ],
      "text/plain": [
       "interactive(children=(IntSlider(value=1, description='n1', max=3, min=-1), IntSlider(value=1, description='n2', max=3, min=-1), IntSlider(value=1, description='n3', max=3, min=-1), Button(description='Run Interact', style=ButtonStyle()), Output()), _dom_classes=('widget-interact',))"
      ]
     },
     "metadata": {},
     "output_type": "display_data"
    }
   ],
   "source": [
    "interact_manual(sum_of_three_numbers,n1=1,n2=1,n3=1);"
   ]
  },
  {
   "cell_type": "markdown",
   "metadata": {},
   "source": [
    "<h4>Exercise</h4>\n",
    "\n",
    "Let us define the following function"
   ]
  },
  {
   "cell_type": "code",
   "execution_count": 46,
   "metadata": {},
   "outputs": [],
   "source": [
    "def print_value(value):\n",
    "    return value"
   ]
  },
  {
   "cell_type": "markdown",
   "metadata": {},
   "source": [
    "Use either the interact or interact_manual function to connect this function to either the IntSlider or FloatSlider. "
   ]
  },
  {
   "cell_type": "code",
   "execution_count": 52,
   "metadata": {},
   "outputs": [],
   "source": [
    "# Your code here\n"
   ]
  },
  {
   "cell_type": "markdown",
   "metadata": {},
   "source": [
    "As before, we can customize our widget."
   ]
  },
  {
   "cell_type": "code",
   "execution_count": 53,
   "metadata": {},
   "outputs": [
    {
     "data": {
      "application/vnd.jupyter.widget-view+json": {
       "model_id": "4bd0d18b23254f7cbe5f71e75c33f931",
       "version_major": 2,
       "version_minor": 0
      },
      "text/html": [
       "<p>Failed to display Jupyter Widget of type <code>interactive</code>.</p>\n",
       "<p>\n",
       "  If you're reading this message in the Jupyter Notebook or JupyterLab Notebook, it may mean\n",
       "  that the widgets JavaScript is still loading. If this message persists, it\n",
       "  likely means that the widgets JavaScript library is either not installed or\n",
       "  not enabled. See the <a href=\"https://ipywidgets.readthedocs.io/en/stable/user_install.html\">Jupyter\n",
       "  Widgets Documentation</a> for setup instructions.\n",
       "</p>\n",
       "<p>\n",
       "  If you're reading this message in another frontend (for example, a static\n",
       "  rendering on GitHub or <a href=\"https://nbviewer.jupyter.org/\">NBViewer</a>),\n",
       "  it may mean that your frontend doesn't currently support widgets.\n",
       "</p>\n"
      ],
      "text/plain": [
       "interactive(children=(IntSlider(value=7, description='Value', max=15, step=3, style=SliderStyle(description_width='initial')), Output()), _dom_classes=('widget-interact',))"
      ]
     },
     "metadata": {},
     "output_type": "display_data"
    }
   ],
   "source": [
    "interact(print_value,value = widgets.IntSlider(value=7,\n",
    "    # Set minimum value\n",
    "    min=0,\n",
    "    # Set maximum value\n",
    "    max=15,\n",
    "    # Set increment or decrement value\n",
    "    step=3,\n",
    "    # Name of the slider\n",
    "    description='Value',\n",
    "    # Enable changing value in widget\n",
    "    disabled=False,\n",
    "    # Orientation\n",
    "    orientation='horizontal',\n",
    "    # Set style \n",
    "    style = long_name,\n",
    "    # Display integer value\n",
    "    readout=True\n",
    "));"
   ]
  },
  {
   "cell_type": "markdown",
   "metadata": {},
   "source": [
    "<h2 align='center'>Summary</h2>\n",
    "\n",
    "In this notebook we learned about basic use and customization of Jupyter widgets. Furthermore, we learned about using interact and interact_manual functions to connect functions and widgets. \n",
    "\n",
    "In the next notebook, we will construct a more elaborate example involving multiple widgets of different kinds. "
   ]
  }
 ],
 "metadata": {
  "kernelspec": {
   "display_name": "Python 3",
   "language": "python",
   "name": "python3"
  },
  "language_info": {
   "codemirror_mode": {
    "name": "ipython",
    "version": 3
   },
   "file_extension": ".py",
   "mimetype": "text/x-python",
   "name": "python",
   "nbconvert_exporter": "python",
   "pygments_lexer": "ipython3",
   "version": "3.6.5"
  }
 },
 "nbformat": 4,
 "nbformat_minor": 2
}
