{
 "cells": [
  {
   "cell_type": "code",
   "execution_count": 1,
   "metadata": {},
   "outputs": [
    {
     "data": {
      "text/html": [
       "<script>\n",
       "code_show=true; \n",
       "function code_toggle() {\n",
       " if (code_show){\n",
       " $('div.input').hide();\n",
       " } else {\n",
       " $('div.input').show();\n",
       " }\n",
       " code_show = !code_show\n",
       "} \n",
       "$( document ).ready(code_toggle);\n",
       "</script>\n",
       "The raw code for this IPython notebook is by default hidden for easier reading.\n",
       "To toggle on/off the raw code, click <a href=\"javascript:code_toggle()\">here</a>."
      ],
      "text/plain": [
       "<IPython.core.display.HTML object>"
      ]
     },
     "execution_count": 1,
     "metadata": {},
     "output_type": "execute_result"
    }
   ],
   "source": [
    "from IPython.display import HTML\n",
    "HTML('''<script>\n",
    "code_show=true; \n",
    "function code_toggle() {\n",
    " if (code_show){\n",
    " $('div.input').hide();\n",
    " } else {\n",
    " $('div.input').show();\n",
    " }\n",
    " code_show = !code_show\n",
    "} \n",
    "$( document ).ready(code_toggle);\n",
    "</script>\n",
    "The raw code for this IPython notebook is by default hidden for easier reading.\n",
    "To toggle on/off the raw code, click <a href=\"javascript:code_toggle()\">here</a>.''')"
   ]
  },
  {
   "cell_type": "markdown",
   "metadata": {},
   "source": [
    "<h1 align='center'>Introducting Interactivity into Jupyter Notebooks</h1>\n",
    "\n",
    "<h4 align='center'>Laura Gutierrez Funderburk$\\mid$ SciProg $\\mid$ Simon Fraser University</h4>"
   ]
  },
  {
   "cell_type": "markdown",
   "metadata": {},
   "source": [
    "<h2 align='center'>Connecting Jupyter Widgets and Python Functions</h2>\n",
    "\n",
    "The easiest way to explore this connection is via the use of the interact and interact manual Python functions. \n",
    "\n",
    "We will begin by importing the appropriate functions. Press Shift + Enter on the following cell"
   ]
  },
  {
   "cell_type": "code",
   "execution_count": 2,
   "metadata": {},
   "outputs": [],
   "source": [
    "from ipywidgets import interact, interact_manual,widgets"
   ]
  },
  {
   "cell_type": "markdown",
   "metadata": {},
   "source": [
    "Let us code a very simple function. "
   ]
  },
  {
   "cell_type": "code",
   "execution_count": 3,
   "metadata": {},
   "outputs": [],
   "source": [
    "# This function takes as input three numbers, which can be either\n",
    "# integer or floating values\n",
    "# and which returns the sum of the three values\n",
    "\n",
    "def sum_of_three_numbers(n1,n2,n3):\n",
    "    result = n1 + n2 + n3\n",
    "    \n",
    "    return \"The result of adding \" + str(n1) + \" + \" + str(n2) + \" + \" + str(n3)+ \" = \" + str(result)\n"
   ]
  },
  {
   "cell_type": "markdown",
   "metadata": {},
   "source": [
    "We can then call interact to manipulate the input and thus change results in the function."
   ]
  },
  {
   "cell_type": "code",
   "execution_count": 4,
   "metadata": {},
   "outputs": [
    {
     "data": {
      "application/vnd.jupyter.widget-view+json": {
       "model_id": "a49580b72f8d4924b45b01a270d17367",
       "version_major": 2,
       "version_minor": 0
      },
      "text/html": [
       "<p>Failed to display Jupyter Widget of type <code>interactive</code>.</p>\n",
       "<p>\n",
       "  If you're reading this message in the Jupyter Notebook or JupyterLab Notebook, it may mean\n",
       "  that the widgets JavaScript is still loading. If this message persists, it\n",
       "  likely means that the widgets JavaScript library is either not installed or\n",
       "  not enabled. See the <a href=\"https://ipywidgets.readthedocs.io/en/stable/user_install.html\">Jupyter\n",
       "  Widgets Documentation</a> for setup instructions.\n",
       "</p>\n",
       "<p>\n",
       "  If you're reading this message in another frontend (for example, a static\n",
       "  rendering on GitHub or <a href=\"https://nbviewer.jupyter.org/\">NBViewer</a>),\n",
       "  it may mean that your frontend doesn't currently support widgets.\n",
       "</p>\n"
      ],
      "text/plain": [
       "interactive(children=(IntSlider(value=1, description='n1', max=3, min=-1), IntSlider(value=1, description='n2', max=3, min=-1), IntSlider(value=1, description='n3', max=3, min=-1), Output()), _dom_classes=('widget-interact',))"
      ]
     },
     "metadata": {},
     "output_type": "display_data"
    }
   ],
   "source": [
    "interact(sum_of_three_numbers,n1=1,n2=1,n3=1);"
   ]
  },
  {
   "cell_type": "markdown",
   "metadata": {},
   "source": [
    "interact automatically displays three IntSlider widgets, one for each input variable, and outputs the result right after. \n",
    "\n",
    "Let us see what happens when we follow a similar formula for the interact_manual function."
   ]
  },
  {
   "cell_type": "code",
   "execution_count": 5,
   "metadata": {},
   "outputs": [
    {
     "data": {
      "application/vnd.jupyter.widget-view+json": {
       "model_id": "3113dd4c730d4ed7a9412c52e025bba1",
       "version_major": 2,
       "version_minor": 0
      },
      "text/html": [
       "<p>Failed to display Jupyter Widget of type <code>interactive</code>.</p>\n",
       "<p>\n",
       "  If you're reading this message in the Jupyter Notebook or JupyterLab Notebook, it may mean\n",
       "  that the widgets JavaScript is still loading. If this message persists, it\n",
       "  likely means that the widgets JavaScript library is either not installed or\n",
       "  not enabled. See the <a href=\"https://ipywidgets.readthedocs.io/en/stable/user_install.html\">Jupyter\n",
       "  Widgets Documentation</a> for setup instructions.\n",
       "</p>\n",
       "<p>\n",
       "  If you're reading this message in another frontend (for example, a static\n",
       "  rendering on GitHub or <a href=\"https://nbviewer.jupyter.org/\">NBViewer</a>),\n",
       "  it may mean that your frontend doesn't currently support widgets.\n",
       "</p>\n"
      ],
      "text/plain": [
       "interactive(children=(IntSlider(value=1, description='n1', max=3, min=-1), IntSlider(value=1, description='n2', max=3, min=-1), IntSlider(value=1, description='n3', max=3, min=-1), Button(description='Run Interact', style=ButtonStyle()), Output()), _dom_classes=('widget-interact',))"
      ]
     },
     "metadata": {},
     "output_type": "display_data"
    }
   ],
   "source": [
    "interact_manual(sum_of_three_numbers,n1=1,n2=1,n3=1);"
   ]
  },
  {
   "cell_type": "markdown",
   "metadata": {},
   "source": [
    "<h4>Exercise</h4>\n",
    "\n",
    "Let us define the following function"
   ]
  },
  {
   "cell_type": "code",
   "execution_count": 6,
   "metadata": {},
   "outputs": [],
   "source": [
    "def print_value(value):\n",
    "    return value"
   ]
  },
  {
   "cell_type": "markdown",
   "metadata": {},
   "source": [
    "Use either the interact or interact_manual function to connect this function to either the IntSlider or FloatSlider. "
   ]
  },
  {
   "cell_type": "code",
   "execution_count": 7,
   "metadata": {},
   "outputs": [],
   "source": [
    "# Your code here\n"
   ]
  },
  {
   "cell_type": "markdown",
   "metadata": {},
   "source": [
    "As before, we can customize our widget."
   ]
  },
  {
   "cell_type": "code",
   "execution_count": 8,
   "metadata": {},
   "outputs": [
    {
     "data": {
      "application/vnd.jupyter.widget-view+json": {
       "model_id": "4b34c4cb12e849289a2f2408d9f408e4",
       "version_major": 2,
       "version_minor": 0
      },
      "text/html": [
       "<p>Failed to display Jupyter Widget of type <code>interactive</code>.</p>\n",
       "<p>\n",
       "  If you're reading this message in the Jupyter Notebook or JupyterLab Notebook, it may mean\n",
       "  that the widgets JavaScript is still loading. If this message persists, it\n",
       "  likely means that the widgets JavaScript library is either not installed or\n",
       "  not enabled. See the <a href=\"https://ipywidgets.readthedocs.io/en/stable/user_install.html\">Jupyter\n",
       "  Widgets Documentation</a> for setup instructions.\n",
       "</p>\n",
       "<p>\n",
       "  If you're reading this message in another frontend (for example, a static\n",
       "  rendering on GitHub or <a href=\"https://nbviewer.jupyter.org/\">NBViewer</a>),\n",
       "  it may mean that your frontend doesn't currently support widgets.\n",
       "</p>\n"
      ],
      "text/plain": [
       "interactive(children=(IntSlider(value=7, description='Value', max=15, step=3, style=SliderStyle(description_width='initial')), Output()), _dom_classes=('widget-interact',))"
      ]
     },
     "metadata": {},
     "output_type": "display_data"
    }
   ],
   "source": [
    "# This style allows for longer descriptions\n",
    "long_name = {'description_width': 'initial'}\n",
    "\n",
    "interact(print_value,value = widgets.IntSlider(value=7,\n",
    "    # Set minimum value\n",
    "    min=0,\n",
    "    # Set maximum value\n",
    "    max=15,\n",
    "    # Set increment or decrement value\n",
    "    step=3,\n",
    "    # Name of the slider\n",
    "    description='Value',\n",
    "    # Enable changing value in widget\n",
    "    disabled=False,\n",
    "    # Orientation\n",
    "    orientation='horizontal',\n",
    "    # Set style \n",
    "    style = long_name,\n",
    "    # Display integer value\n",
    "    readout=True\n",
    "));"
   ]
  },
  {
   "cell_type": "markdown",
   "metadata": {},
   "source": [
    "We then see that the formula is\n",
    "\n",
    "1) Define function foo with input parameters x1,x2,...,xn\n",
    "2) Call either interact or interact_manual as follows:\n",
    "\n",
    "#### interact(foo , x1=widgets.IntSlider(), x2=widgets.FloatSlider(),..., xn=widgets.Select())\n",
    "\n",
    "\n",
    "#### interact_manual(foo , x1=widgets.IntSlider(), x2=widgets.FloatSlider(),..., xn=widgets.Select())\n",
    "\n",
    "In general, interact changes the parameters in real time and it is best recommended when lag is not an issue. When we code functions taking multiple parameters, and in particular if there is a larger computational time involved, it is a better practice using interact manual. \n",
    "\n",
    "Below are two examples using each. \n"
   ]
  },
  {
   "cell_type": "code",
   "execution_count": 9,
   "metadata": {},
   "outputs": [
    {
     "data": {
      "application/vnd.jupyter.widget-view+json": {
       "model_id": "1bfdff8887214865b31197627b9948f8",
       "version_major": 2,
       "version_minor": 0
      },
      "text/html": [
       "<p>Failed to display Jupyter Widget of type <code>interactive</code>.</p>\n",
       "<p>\n",
       "  If you're reading this message in the Jupyter Notebook or JupyterLab Notebook, it may mean\n",
       "  that the widgets JavaScript is still loading. If this message persists, it\n",
       "  likely means that the widgets JavaScript library is either not installed or\n",
       "  not enabled. See the <a href=\"https://ipywidgets.readthedocs.io/en/stable/user_install.html\">Jupyter\n",
       "  Widgets Documentation</a> for setup instructions.\n",
       "</p>\n",
       "<p>\n",
       "  If you're reading this message in another frontend (for example, a static\n",
       "  rendering on GitHub or <a href=\"https://nbviewer.jupyter.org/\">NBViewer</a>),\n",
       "  it may mean that your frontend doesn't currently support widgets.\n",
       "</p>\n"
      ],
      "text/plain": [
       "interactive(children=(IntSlider(value=40, continuous_update=False, description='Angle of Incidence', max=90, step=10, style=SliderStyle(description_width='initial')), Output()), _dom_classes=('widget-interact',))"
      ]
     },
     "metadata": {},
     "output_type": "display_data"
    }
   ],
   "source": [
    "from ipywidgets import widgets,interact_manual,interact\n",
    "import matplotlib\n",
    "import numpy as np\n",
    "from __future__ import division\n",
    "import math\n",
    "from math import ceil\n",
    "import matplotlib.pyplot as plt\n",
    "%matplotlib inline\n",
    "\n",
    "style = {'description_width': 'initial'}\n",
    "\n",
    "def plot_reflection_diagram(theta1_refle):\n",
    "\n",
    "    # radar green, solid grid lines\n",
    "    plt.rc('grid', color='#316931', linewidth=1, linestyle='--')\n",
    "    plt.rc('xtick', labelsize=15)\n",
    "    plt.rc('ytick', labelsize=15)\n",
    "\n",
    "# force square figure and square axes looks better for polar, IMO\n",
    "    width, height = matplotlib.rcParams['figure.figsize']\n",
    "    size = min(width, height)\n",
    "# make a square figure\n",
    "    \n",
    "    fig = plt.figure(figsize=(10, 10))\n",
    "    ax = fig.add_axes([0.1, 0.1, 0.8, 0.8], polar=True, facecolor='white')\n",
    "    ax.set_ylim(0,1)\n",
    "    ax.set_yticks(np.arange(0,1,0.5))\n",
    "    ax.set_theta_zero_location('N')\n",
    "\n",
    "    \n",
    "    ax.set_yticklabels([])\n",
    "    ax.set_rmax(2.0)\n",
    "    plt.grid(True)\n",
    "    ax.set_thetamin(-90)\n",
    "    ax.set_thetamax(90)\n",
    "    ax.axhline()\n",
    "\n",
    "#ax.set_title(\"And there was much rejoicing!\", fontsize=20)\n",
    "#This is the line I added:\n",
    "    \n",
    "    ax.arrow((theta1_refle)/180.*np.pi, 0, 0, 1, alpha = 1.5, width = 0.015,\n",
    "                 edgecolor = 'red', facecolor = 'red', lw = 2, zorder = 5)\n",
    "\n",
    "\n",
    "# arrow at 45 degree\n",
    "    ax.arrow((-theta1_refle)/180.*np.pi, 0.0, 0, 1, alpha = 0.5, width = 0.015,\n",
    "                 edgecolor = 'blue', facecolor = 'blue', lw = 2, zorder = 5)\n",
    "    x_s = [-2,2]#10*cos(90/180*np.pi)\n",
    "    y_s = [0,0]#10*sin(90/180*np.pi)\n",
    "    ax.plot(x_s,y_s,color='black',linestyle='solid',transform=ax.transData._b)\n",
    "   \n",
    "    x_n = [0,0]#10*cos(90/180*np.pi)\n",
    "    y_n = [0,2]#10*sin(90/180*np.pi)\n",
    "    ax.plot(x_n,y_n,color='black',linestyle='solid',transform=ax.transData._b)\n",
    "    matplotlib.pyplot.text(0, 2.2, \"N\", fontsize=20,transform=ax.transData._b)\n",
    "    matplotlib.pyplot.text(2.2, 0, \"Surface\", fontsize=20,transform=ax.transData._b)\n",
    "    #ax.legend()\n",
    "#arr3 = plt.plot([0,-1],[0,-1])\n",
    "    plt.show()\n",
    "    \n",
    "interact(plot_reflection_diagram,\n",
    "    theta1_refle = widgets.IntSlider(\n",
    "            value=40,\n",
    "            min=0,\n",
    "            max=90,\n",
    "            step=10,\n",
    "            description='Angle of Incidence',\n",
    "            disabled=False,\n",
    "            continuous_update=False,\n",
    "            orientation='horizontal',\n",
    "            readout=True,\n",
    "            readout_format='d',\n",
    "            style =style\n",
    ")\n",
    ");\n"
   ]
  },
  {
   "cell_type": "code",
   "execution_count": 10,
   "metadata": {},
   "outputs": [
    {
     "data": {
      "application/vnd.jupyter.widget-view+json": {
       "model_id": "054a9b680770448abe0b15fefab1c326",
       "version_major": 2,
       "version_minor": 0
      },
      "text/html": [
       "<p>Failed to display Jupyter Widget of type <code>interactive</code>.</p>\n",
       "<p>\n",
       "  If you're reading this message in the Jupyter Notebook or JupyterLab Notebook, it may mean\n",
       "  that the widgets JavaScript is still loading. If this message persists, it\n",
       "  likely means that the widgets JavaScript library is either not installed or\n",
       "  not enabled. See the <a href=\"https://ipywidgets.readthedocs.io/en/stable/user_install.html\">Jupyter\n",
       "  Widgets Documentation</a> for setup instructions.\n",
       "</p>\n",
       "<p>\n",
       "  If you're reading this message in another frontend (for example, a static\n",
       "  rendering on GitHub or <a href=\"https://nbviewer.jupyter.org/\">NBViewer</a>),\n",
       "  it may mean that your frontend doesn't currently support widgets.\n",
       "</p>\n"
      ],
      "text/plain": [
       "interactive(children=(IntSlider(value=2, continuous_update=False, description='Number of trials', max=1000, min=1, style=SliderStyle(description_width='initial')), Button(description='Run Interact', style=ButtonStyle()), Output()), _dom_classes=('widget-interact',))"
      ]
     },
     "metadata": {},
     "output_type": "display_data"
    }
   ],
   "source": [
    "#Code written by Laura Gutierrez Funderburk\n",
    "\n",
    "# Import libraries\n",
    "import matplotlib.patches as mpatches\n",
    "import matplotlib.pyplot as plt\n",
    "import random\n",
    "from ipywidgets import widgets, interact_manual,interact\n",
    "\n",
    "# This function takes as input an integer number_turns indicating the number of times we wish to repeat \n",
    "#   experiment\n",
    "# This function plots two figures: the left hand side figure is a scatter plot where each point is determined\n",
    "#  by the pair (n,y) where n is the nth trial and y is the outcome obtained after rolling a die\n",
    "#  The right hand side is a bar plot that displays the frequency of each face after all trials.\n",
    "def plot_random(number_turns):\n",
    "    \n",
    "    # Initialize figure\n",
    "    fig = plt.figure(figsize=(15,10)) \n",
    "\n",
    "    # Initialize left hand side figure\n",
    "    ax = fig.add_subplot(221)\n",
    "    \n",
    "    # Set x and y limits\n",
    "    ax.set_xlim([0,number_turns + 1])\n",
    "    ax.set_ylim([0,7])\n",
    "    \n",
    "    # Draw grid\n",
    "    ax.grid(True)\n",
    "    \n",
    "    # Compute die outcome as a random choice between integers 1 through 6, repeat for number_turns times\n",
    "    die_outcome = [random.choice([1,2,3,4,5,6]) for i in range(number_turns)]\n",
    "    \n",
    "    # Compute y values \n",
    "    y = [i for i in range(1,number_turns+1)]\n",
    "\n",
    "    # Plot outcome and label plot\n",
    "    ax.scatter(y,die_outcome,color='#000000',label=\"Experiment Outcome\")\n",
    "    ax.set_ylabel(\"Outcome\",fontsize=15)\n",
    "    ax.set_xlabel(\"Number of trials\",fontsize=15)\n",
    "    ax.set_title(\"Rolling a Die\",fontsize=25)\n",
    "    \n",
    "    # Initialize right hand side figure\n",
    "    ax3 = fig.add_subplot(222)\n",
    "    \n",
    "    # Compute frequency of each outcome\n",
    "    freq = [die_outcome.count(i) for i in range(1,7)]\n",
    "    \n",
    "    # Draw grid\n",
    "    ax3.grid(True)\n",
    "    \n",
    "    # Plot outcome and label plot\n",
    "    ax3.bar([1,2,3,4,5,6],freq)\n",
    "    ax3.set_ylabel(\"Frequency\",fontsize=15)\n",
    "    ax3.set_xlabel(\"Face\",fontsize=15)\n",
    "    ax3.set_title(\"Distribution\",fontsize=25)\n",
    "    \n",
    "    # Show plot\n",
    "    plt.show()\n",
    "    \n",
    "# Initalize and configure widget: connect function and manual widget\n",
    "style = {'description_width': 'initial'}\n",
    "interact_manual(plot_random,number_turns=widgets.IntSlider(\n",
    "            value=2,\n",
    "            min=1,\n",
    "            max=1000,\n",
    "            step=1,\n",
    "            description='Number of trials',\n",
    "            disabled=False,\n",
    "            continuous_update=False,\n",
    "            orientation='horizontal',\n",
    "            readout=True,\n",
    "            readout_format='d',\n",
    "            style =style\n",
    "));"
   ]
  },
  {
   "cell_type": "markdown",
   "metadata": {},
   "source": [
    "<h2 align='center'>Summary</h2>\n",
    "\n",
    "In this notebook we learned about using interact and interact_manual functions to connect functions and widgets and explored two examples using each to connect Jupyter widgets and functions of interest. \n",
    "\n",
    "In the next notebook we will learn about Magics."
   ]
  }
 ],
 "metadata": {
  "kernelspec": {
   "display_name": "Python 3",
   "language": "python",
   "name": "python3"
  },
  "language_info": {
   "codemirror_mode": {
    "name": "ipython",
    "version": 3
   },
   "file_extension": ".py",
   "mimetype": "text/x-python",
   "name": "python",
   "nbconvert_exporter": "python",
   "pygments_lexer": "ipython3",
   "version": "3.6.5"
  }
 },
 "nbformat": 4,
 "nbformat_minor": 2
}
